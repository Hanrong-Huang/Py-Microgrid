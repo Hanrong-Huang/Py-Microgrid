{
 "cells": [
  {
   "cell_type": "markdown",
   "metadata": {},
   "source": [
    "# Simple Wind and Solar Hybrid Plant using API Key Example\n",
    "---\n",
    "In this example, we will use the NREL API key to download wind and solar resource data at a given location and simulate a hybrid system."
   ]
  },
  {
   "cell_type": "markdown",
   "metadata": {},
   "source": [
    "### Import Required Modules\n",
    "We start by importing the necessary modules and setting up our working environment."
   ]
  },
  {
   "cell_type": "code",
   "execution_count": 8,
   "metadata": {},
   "outputs": [],
   "source": [
    "from hopp.utilities.keys import set_nrel_key_dot_env\n",
    "from hopp.simulation import HoppInterface\n"
   ]
  },
  {
   "cell_type": "markdown",
   "metadata": {},
   "source": [
    "### Set API Key\n",
    "To access the Wind Toolkit (wind resource) and NSRDB (solar resource) data, we need to set an API key. You can obtain an API key from the [NREL developer website](https://developer.nrel.gov/signup/).\n",
    "\n",
    "To set up the `NREL_API_KEY` required for resource downloads, you can create an Environment Variable called `NREL_API_KEY`. Otherwise, you can keep the key in a new file called \".env\" in the root directory of this project.\n",
    "\n",
    "Create a file \".env\" that contains the single line:\n",
    "`NREL_API_KEY=key`"
   ]
  },
  {
   "cell_type": "code",
   "execution_count": 2,
   "metadata": {},
   "outputs": [],
   "source": [
    "# Set API key using the .env\n",
    "set_nrel_key_dot_env()\n",
    "NREL_API_KEY=3F5fBErsd9gKIPEdQpkWHNIhNj7gZG3j0y3lkzew\n"
   ]
  },
  {
   "cell_type": "markdown",
   "metadata": {},
   "source": [
    "#### (Optional)\n",
    "\n",
    "This step is if you do not set the API key using a \".env\" file."
   ]
  },
  {
   "cell_type": "code",
   "execution_count": 5,
   "metadata": {},
   "outputs": [],
   "source": [
    "import os\n",
    "from hopp.utilities.keys import set_developer_nrel_gov_key\n",
    "\n",
    "# Set API key manually if not using the .env\n",
    "global NREL_API_KEY\n",
    "NREL_API_KEY = os.getenv(\"3F5fBErsd9gKIPEdQpkWHNIhNj7gZG3j0y3lkzew\") # Set this key manually here if you are not setting it using the .env\n",
    "set_developer_nrel_gov_key(NREL_API_KEY)  "
   ]
  },
  {
   "cell_type": "markdown",
   "metadata": {},
   "source": [
    "### Create the HOPP Model\n",
    "To generate the HOPP Model, instantiate the `HoppInterface` class and provide the technology configuration and site information in the YAML. This model is similar to example 01, with some notable differences:\n",
    "- The `site` information does not specify resource filepaths. This means that the API will be used to retrieve resource information for the site.\n",
    "- We specify other configuration options, such as `ppa_price` and `dc_degradation`. See the documentation for full descriptions of the available parameters for each technology."
   ]
  },
  {
   "cell_type": "code",
   "execution_count": 6,
   "metadata": {},
   "outputs": [
    {
     "ename": "ValueError",
     "evalue": "Please provide NREL Developer key using `set_developer_nrel_gov_key`(`from hopp.utilities.keys import set_developer_nrel_gov_key`) \n Ensure your Developer key is set either as a `NREL_API_KEY` Environment Variable or using the .env file method. For details on setting up .env, please see Section 7 of 'Installing from Source' or Section 2 of 'Installing from Package Repositories' in the README.md",
     "output_type": "error",
     "traceback": [
      "\u001b[1;31m---------------------------------------------------------------------------\u001b[0m",
      "\u001b[1;31mValueError\u001b[0m                                Traceback (most recent call last)",
      "Cell \u001b[1;32mIn[6], line 1\u001b[0m\n\u001b[1;32m----> 1\u001b[0m hi \u001b[38;5;241m=\u001b[39m \u001b[43mHoppInterface\u001b[49m\u001b[43m(\u001b[49m\u001b[38;5;124;43m\"\u001b[39;49m\u001b[38;5;124;43m./inputs/02-wind-solar-api.yaml\u001b[39;49m\u001b[38;5;124;43m\"\u001b[39;49m\u001b[43m)\u001b[49m\n",
      "File \u001b[1;32m~\\.conda\\envs\\microgrid\\lib\\site-packages\\hopp\\simulation\\hopp_interface.py:40\u001b[0m, in \u001b[0;36mHoppInterface.__init__\u001b[1;34m(self, configuration)\u001b[0m\n\u001b[0;32m     37\u001b[0m \u001b[38;5;28mself\u001b[39m\u001b[38;5;241m.\u001b[39mconfiguration \u001b[38;5;241m=\u001b[39m configuration\n\u001b[0;32m     39\u001b[0m \u001b[38;5;28;01mif\u001b[39;00m \u001b[38;5;28misinstance\u001b[39m(\u001b[38;5;28mself\u001b[39m\u001b[38;5;241m.\u001b[39mconfiguration, (\u001b[38;5;28mstr\u001b[39m, Path)):\n\u001b[1;32m---> 40\u001b[0m     \u001b[38;5;28mself\u001b[39m\u001b[38;5;241m.\u001b[39mhopp \u001b[38;5;241m=\u001b[39m \u001b[43mHopp\u001b[49m\u001b[38;5;241;43m.\u001b[39;49m\u001b[43mfrom_file\u001b[49m\u001b[43m(\u001b[49m\u001b[38;5;28;43mself\u001b[39;49m\u001b[38;5;241;43m.\u001b[39;49m\u001b[43mconfiguration\u001b[49m\u001b[43m)\u001b[49m\n\u001b[0;32m     42\u001b[0m \u001b[38;5;28;01melif\u001b[39;00m \u001b[38;5;28misinstance\u001b[39m(\u001b[38;5;28mself\u001b[39m\u001b[38;5;241m.\u001b[39mconfiguration, \u001b[38;5;28mdict\u001b[39m):\n\u001b[0;32m     43\u001b[0m     \u001b[38;5;28mself\u001b[39m\u001b[38;5;241m.\u001b[39mhopp \u001b[38;5;241m=\u001b[39m Hopp\u001b[38;5;241m.\u001b[39mfrom_dict(\u001b[38;5;28mself\u001b[39m\u001b[38;5;241m.\u001b[39mconfiguration)\n",
      "File \u001b[1;32m~\\.conda\\envs\\microgrid\\lib\\site-packages\\hopp\\simulation\\hopp.py:69\u001b[0m, in \u001b[0;36mHopp.from_file\u001b[1;34m(cls, input_file_path, filetype)\u001b[0m\n\u001b[0;32m     67\u001b[0m \u001b[38;5;28;01melse\u001b[39;00m:\n\u001b[0;32m     68\u001b[0m     \u001b[38;5;28;01mraise\u001b[39;00m \u001b[38;5;167;01mValueError\u001b[39;00m(\u001b[38;5;124m\"\u001b[39m\u001b[38;5;124mSupported import filetype is YAML\u001b[39m\u001b[38;5;124m\"\u001b[39m)\n\u001b[1;32m---> 69\u001b[0m \u001b[38;5;28;01mreturn\u001b[39;00m \u001b[43mHopp\u001b[49m\u001b[38;5;241;43m.\u001b[39;49m\u001b[43mfrom_dict\u001b[49m\u001b[43m(\u001b[49m\u001b[43minput_dict\u001b[49m\u001b[43m)\u001b[49m\n",
      "File \u001b[1;32m~\\.conda\\envs\\microgrid\\lib\\site-packages\\hopp\\type_dec.py:187\u001b[0m, in \u001b[0;36mFromDictMixin.from_dict\u001b[1;34m(cls, data)\u001b[0m\n\u001b[0;32m    185\u001b[0m \u001b[38;5;28;01mif\u001b[39;00m undefined:\n\u001b[0;32m    186\u001b[0m     \u001b[38;5;28;01mraise\u001b[39;00m \u001b[38;5;167;01mAttributeError\u001b[39;00m(\u001b[38;5;124mf\u001b[39m\u001b[38;5;124m\"\u001b[39m\u001b[38;5;124mThe class defintion for \u001b[39m\u001b[38;5;132;01m{\u001b[39;00m\u001b[38;5;28mcls\u001b[39m\u001b[38;5;241m.\u001b[39m\u001b[38;5;18m__name__\u001b[39m\u001b[38;5;132;01m}\u001b[39;00m\u001b[38;5;124m is missing the following inputs: \u001b[39m\u001b[38;5;132;01m{\u001b[39;00mundefined\u001b[38;5;132;01m}\u001b[39;00m\u001b[38;5;124m\"\u001b[39m)\n\u001b[1;32m--> 187\u001b[0m \u001b[38;5;28;01mreturn\u001b[39;00m \u001b[38;5;28;43mcls\u001b[39;49m\u001b[43m(\u001b[49m\u001b[38;5;241;43m*\u001b[39;49m\u001b[38;5;241;43m*\u001b[39;49m\u001b[43mkwargs\u001b[49m\u001b[43m)\u001b[49m\n",
      "File \u001b[1;32m<attrs generated init hopp.simulation.hopp.Hopp>:7\u001b[0m, in \u001b[0;36m__init__\u001b[1;34m(self, site, technologies, name, config)\u001b[0m\n\u001b[0;32m      5\u001b[0m _setattr(\u001b[38;5;124m'\u001b[39m\u001b[38;5;124mname\u001b[39m\u001b[38;5;124m'\u001b[39m, __attr_converter_name(name))\n\u001b[0;32m      6\u001b[0m _setattr(\u001b[38;5;124m'\u001b[39m\u001b[38;5;124mconfig\u001b[39m\u001b[38;5;124m'\u001b[39m, config)\n\u001b[1;32m----> 7\u001b[0m \u001b[38;5;28;43mself\u001b[39;49m\u001b[38;5;241;43m.\u001b[39;49m\u001b[43m__attrs_post_init__\u001b[49m\u001b[43m(\u001b[49m\u001b[43m)\u001b[49m\n",
      "File \u001b[1;32m~\\.conda\\envs\\microgrid\\lib\\site-packages\\hopp\\simulation\\hopp.py:27\u001b[0m, in \u001b[0;36mHopp.__attrs_post_init__\u001b[1;34m(self)\u001b[0m\n\u001b[0;32m     24\u001b[0m \u001b[38;5;28mself\u001b[39m\u001b[38;5;241m.\u001b[39mconfig \u001b[38;5;241m=\u001b[39m \u001b[38;5;28mself\u001b[39m\u001b[38;5;241m.\u001b[39mconfig \u001b[38;5;129;01mor\u001b[39;00m {}\n\u001b[0;32m     26\u001b[0m \u001b[38;5;28;01mif\u001b[39;00m \u001b[38;5;28misinstance\u001b[39m(\u001b[38;5;28mself\u001b[39m\u001b[38;5;241m.\u001b[39msite, \u001b[38;5;28mdict\u001b[39m):\n\u001b[1;32m---> 27\u001b[0m     site \u001b[38;5;241m=\u001b[39m \u001b[43mSiteInfo\u001b[49m\u001b[38;5;241;43m.\u001b[39;49m\u001b[43mfrom_dict\u001b[49m\u001b[43m(\u001b[49m\u001b[38;5;28;43mself\u001b[39;49m\u001b[38;5;241;43m.\u001b[39;49m\u001b[43msite\u001b[49m\u001b[43m)\u001b[49m\n\u001b[0;32m     28\u001b[0m \u001b[38;5;28;01melse\u001b[39;00m:\n\u001b[0;32m     29\u001b[0m     site \u001b[38;5;241m=\u001b[39m \u001b[38;5;28mself\u001b[39m\u001b[38;5;241m.\u001b[39msite\n",
      "File \u001b[1;32m~\\.conda\\envs\\microgrid\\lib\\site-packages\\hopp\\type_dec.py:187\u001b[0m, in \u001b[0;36mFromDictMixin.from_dict\u001b[1;34m(cls, data)\u001b[0m\n\u001b[0;32m    185\u001b[0m \u001b[38;5;28;01mif\u001b[39;00m undefined:\n\u001b[0;32m    186\u001b[0m     \u001b[38;5;28;01mraise\u001b[39;00m \u001b[38;5;167;01mAttributeError\u001b[39;00m(\u001b[38;5;124mf\u001b[39m\u001b[38;5;124m\"\u001b[39m\u001b[38;5;124mThe class defintion for \u001b[39m\u001b[38;5;132;01m{\u001b[39;00m\u001b[38;5;28mcls\u001b[39m\u001b[38;5;241m.\u001b[39m\u001b[38;5;18m__name__\u001b[39m\u001b[38;5;132;01m}\u001b[39;00m\u001b[38;5;124m is missing the following inputs: \u001b[39m\u001b[38;5;132;01m{\u001b[39;00mundefined\u001b[38;5;132;01m}\u001b[39;00m\u001b[38;5;124m\"\u001b[39m)\n\u001b[1;32m--> 187\u001b[0m \u001b[38;5;28;01mreturn\u001b[39;00m \u001b[38;5;28;43mcls\u001b[39;49m\u001b[43m(\u001b[49m\u001b[38;5;241;43m*\u001b[39;49m\u001b[38;5;241;43m*\u001b[39;49m\u001b[43mkwargs\u001b[49m\u001b[43m)\u001b[49m\n",
      "File \u001b[1;32m<attrs generated init hopp.simulation.technologies.sites.site_info.SiteInfo>:25\u001b[0m, in \u001b[0;36m__init__\u001b[1;34m(self, data, solar_resource_file, wind_resource_file, wave_resource_file, grid_resource_file, hub_height, capacity_hours, desired_schedule, solar, wind, wave, wind_resource_origin)\u001b[0m\n\u001b[0;32m     23\u001b[0m \u001b[38;5;28;01mif\u001b[39;00m _config\u001b[38;5;241m.\u001b[39m_run_validators \u001b[38;5;129;01mis\u001b[39;00m \u001b[38;5;28;01mTrue\u001b[39;00m:\n\u001b[0;32m     24\u001b[0m     __attr_validator_wind_resource_origin(\u001b[38;5;28mself\u001b[39m, __attr_wind_resource_origin, \u001b[38;5;28mself\u001b[39m\u001b[38;5;241m.\u001b[39mwind_resource_origin)\n\u001b[1;32m---> 25\u001b[0m \u001b[38;5;28;43mself\u001b[39;49m\u001b[38;5;241;43m.\u001b[39;49m\u001b[43m__attrs_post_init__\u001b[49m\u001b[43m(\u001b[49m\u001b[43m)\u001b[49m\n",
      "File \u001b[1;32m~\\.conda\\envs\\microgrid\\lib\\site-packages\\hopp\\simulation\\technologies\\sites\\site_info.py:134\u001b[0m, in \u001b[0;36mSiteInfo.__attrs_post_init__\u001b[1;34m(self)\u001b[0m\n\u001b[0;32m    131\u001b[0m     \u001b[38;5;28mself\u001b[39m\u001b[38;5;241m.\u001b[39mtz \u001b[38;5;241m=\u001b[39m data[\u001b[38;5;124m'\u001b[39m\u001b[38;5;124mtz\u001b[39m\u001b[38;5;124m'\u001b[39m]\n\u001b[0;32m    133\u001b[0m \u001b[38;5;28;01mif\u001b[39;00m \u001b[38;5;28mself\u001b[39m\u001b[38;5;241m.\u001b[39msolar:\n\u001b[1;32m--> 134\u001b[0m     \u001b[38;5;28mself\u001b[39m\u001b[38;5;241m.\u001b[39msolar_resource \u001b[38;5;241m=\u001b[39m \u001b[43mSolarResource\u001b[49m\u001b[43m(\u001b[49m\u001b[43mdata\u001b[49m\u001b[43m[\u001b[49m\u001b[38;5;124;43m'\u001b[39;49m\u001b[38;5;124;43mlat\u001b[39;49m\u001b[38;5;124;43m'\u001b[39;49m\u001b[43m]\u001b[49m\u001b[43m,\u001b[49m\u001b[43m \u001b[49m\u001b[43mdata\u001b[49m\u001b[43m[\u001b[49m\u001b[38;5;124;43m'\u001b[39;49m\u001b[38;5;124;43mlon\u001b[39;49m\u001b[38;5;124;43m'\u001b[39;49m\u001b[43m]\u001b[49m\u001b[43m,\u001b[49m\u001b[43m \u001b[49m\u001b[43mdata\u001b[49m\u001b[43m[\u001b[49m\u001b[38;5;124;43m'\u001b[39;49m\u001b[38;5;124;43myear\u001b[39;49m\u001b[38;5;124;43m'\u001b[39;49m\u001b[43m]\u001b[49m\u001b[43m,\u001b[49m\u001b[43m \u001b[49m\u001b[43mfilepath\u001b[49m\u001b[38;5;241;43m=\u001b[39;49m\u001b[38;5;28;43mself\u001b[39;49m\u001b[38;5;241;43m.\u001b[39;49m\u001b[43msolar_resource_file\u001b[49m\u001b[43m)\u001b[49m\n\u001b[0;32m    135\u001b[0m     \u001b[38;5;28mself\u001b[39m\u001b[38;5;241m.\u001b[39mn_timesteps \u001b[38;5;241m=\u001b[39m \u001b[38;5;28mlen\u001b[39m(\u001b[38;5;28mself\u001b[39m\u001b[38;5;241m.\u001b[39msolar_resource\u001b[38;5;241m.\u001b[39mdata[\u001b[38;5;124m'\u001b[39m\u001b[38;5;124mgh\u001b[39m\u001b[38;5;124m'\u001b[39m]) \u001b[38;5;241m/\u001b[39m\u001b[38;5;241m/\u001b[39m \u001b[38;5;241m8760\u001b[39m \u001b[38;5;241m*\u001b[39m \u001b[38;5;241m8760\u001b[39m\n\u001b[0;32m    136\u001b[0m \u001b[38;5;28;01mif\u001b[39;00m \u001b[38;5;28mself\u001b[39m\u001b[38;5;241m.\u001b[39mwave:\n",
      "File \u001b[1;32m~\\.conda\\envs\\microgrid\\lib\\site-packages\\hopp\\simulation\\technologies\\resource\\solar_resource.py:65\u001b[0m, in \u001b[0;36mSolarResource.__init__\u001b[1;34m(self, lat, lon, year, path_resource, filepath, use_api, **kwargs)\u001b[0m\n\u001b[0;32m     62\u001b[0m \u001b[38;5;28mself\u001b[39m\u001b[38;5;241m.\u001b[39mcheck_download_dir()   \u001b[38;5;66;03m# FIXME: This breaks if weather file is in the same directory as caller\u001b[39;00m\n\u001b[0;32m     64\u001b[0m \u001b[38;5;28;01mif\u001b[39;00m \u001b[38;5;129;01mnot\u001b[39;00m os\u001b[38;5;241m.\u001b[39mpath\u001b[38;5;241m.\u001b[39misfile(\u001b[38;5;28mself\u001b[39m\u001b[38;5;241m.\u001b[39mfilename) \u001b[38;5;129;01mor\u001b[39;00m use_api:\n\u001b[1;32m---> 65\u001b[0m     \u001b[38;5;28;43mself\u001b[39;49m\u001b[38;5;241;43m.\u001b[39;49m\u001b[43mdownload_resource\u001b[49m\u001b[43m(\u001b[49m\u001b[43m)\u001b[49m\n\u001b[0;32m     67\u001b[0m \u001b[38;5;28mself\u001b[39m\u001b[38;5;241m.\u001b[39mformat_data()\n\u001b[0;32m     69\u001b[0m logger\u001b[38;5;241m.\u001b[39minfo(\u001b[38;5;124m\"\u001b[39m\u001b[38;5;124mSolarResource: \u001b[39m\u001b[38;5;132;01m{}\u001b[39;00m\u001b[38;5;124m\"\u001b[39m\u001b[38;5;241m.\u001b[39mformat(\u001b[38;5;28mself\u001b[39m\u001b[38;5;241m.\u001b[39mfilename))\n",
      "File \u001b[1;32m~\\.conda\\envs\\microgrid\\lib\\site-packages\\hopp\\simulation\\technologies\\resource\\solar_resource.py:75\u001b[0m, in \u001b[0;36mSolarResource.download_resource\u001b[1;34m(self)\u001b[0m\n\u001b[0;32m     71\u001b[0m \u001b[38;5;28;01mdef\u001b[39;00m \u001b[38;5;21mdownload_resource\u001b[39m(\u001b[38;5;28mself\u001b[39m):\n\u001b[0;32m     72\u001b[0m     url \u001b[38;5;241m=\u001b[39m \u001b[38;5;124m'\u001b[39m\u001b[38;5;132;01m{base}\u001b[39;00m\u001b[38;5;124m?wkt=POINT(\u001b[39m\u001b[38;5;132;01m{lon}\u001b[39;00m\u001b[38;5;124m+\u001b[39m\u001b[38;5;132;01m{lat}\u001b[39;00m\u001b[38;5;124m)&names=\u001b[39m\u001b[38;5;132;01m{year}\u001b[39;00m\u001b[38;5;124m&leap_day=\u001b[39m\u001b[38;5;132;01m{leap}\u001b[39;00m\u001b[38;5;124m&interval=\u001b[39m\u001b[38;5;132;01m{interval}\u001b[39;00m\u001b[38;5;124m&utc=\u001b[39m\u001b[38;5;132;01m{utc}\u001b[39;00m\u001b[38;5;124m&full_name=\u001b[39m\u001b[38;5;132;01m{name}\u001b[39;00m\u001b[38;5;124m&email=\u001b[39m\u001b[38;5;132;01m{email}\u001b[39;00m\u001b[38;5;124m&affiliation=\u001b[39m\u001b[38;5;132;01m{affiliation}\u001b[39;00m\u001b[38;5;124m&mailing_list=\u001b[39m\u001b[38;5;132;01m{mailing_list}\u001b[39;00m\u001b[38;5;124m&reason=\u001b[39m\u001b[38;5;132;01m{reason}\u001b[39;00m\u001b[38;5;124m&api_key=\u001b[39m\u001b[38;5;132;01m{api}\u001b[39;00m\u001b[38;5;124m&attributes=\u001b[39m\u001b[38;5;132;01m{attr}\u001b[39;00m\u001b[38;5;124m'\u001b[39m\u001b[38;5;241m.\u001b[39mformat(\n\u001b[0;32m     73\u001b[0m         base\u001b[38;5;241m=\u001b[39mBASE_URL, year\u001b[38;5;241m=\u001b[39m\u001b[38;5;28mself\u001b[39m\u001b[38;5;241m.\u001b[39myear, lat\u001b[38;5;241m=\u001b[39m\u001b[38;5;28mself\u001b[39m\u001b[38;5;241m.\u001b[39mlatitude, lon\u001b[38;5;241m=\u001b[39m\u001b[38;5;28mself\u001b[39m\u001b[38;5;241m.\u001b[39mlongitude, leap\u001b[38;5;241m=\u001b[39m\u001b[38;5;28mself\u001b[39m\u001b[38;5;241m.\u001b[39mleap_year, interval\u001b[38;5;241m=\u001b[39m\u001b[38;5;28mself\u001b[39m\u001b[38;5;241m.\u001b[39minterval,\n\u001b[0;32m     74\u001b[0m         utc\u001b[38;5;241m=\u001b[39m\u001b[38;5;28mself\u001b[39m\u001b[38;5;241m.\u001b[39mutc, name\u001b[38;5;241m=\u001b[39m\u001b[38;5;28mself\u001b[39m\u001b[38;5;241m.\u001b[39mname, email\u001b[38;5;241m=\u001b[39m\u001b[38;5;28mself\u001b[39m\u001b[38;5;241m.\u001b[39memail,\n\u001b[1;32m---> 75\u001b[0m         mailing_list\u001b[38;5;241m=\u001b[39m\u001b[38;5;28mself\u001b[39m\u001b[38;5;241m.\u001b[39mmailing_list, affiliation\u001b[38;5;241m=\u001b[39m\u001b[38;5;28mself\u001b[39m\u001b[38;5;241m.\u001b[39maffiliation, reason\u001b[38;5;241m=\u001b[39m\u001b[38;5;28mself\u001b[39m\u001b[38;5;241m.\u001b[39mreason, api\u001b[38;5;241m=\u001b[39m\u001b[43mget_developer_nrel_gov_key\u001b[49m\u001b[43m(\u001b[49m\u001b[43m)\u001b[49m,\n\u001b[0;32m     76\u001b[0m         attr\u001b[38;5;241m=\u001b[39m\u001b[38;5;28mself\u001b[39m\u001b[38;5;241m.\u001b[39msolar_attributes)\n\u001b[0;32m     78\u001b[0m     success \u001b[38;5;241m=\u001b[39m \u001b[38;5;28mself\u001b[39m\u001b[38;5;241m.\u001b[39mcall_api(url, filename\u001b[38;5;241m=\u001b[39m\u001b[38;5;28mself\u001b[39m\u001b[38;5;241m.\u001b[39mfilename)\n\u001b[0;32m     80\u001b[0m     \u001b[38;5;28;01mreturn\u001b[39;00m success\n",
      "File \u001b[1;32m~\\.conda\\envs\\microgrid\\lib\\site-packages\\hopp\\utilities\\keys.py:15\u001b[0m, in \u001b[0;36mget_developer_nrel_gov_key\u001b[1;34m()\u001b[0m\n\u001b[0;32m     13\u001b[0m \u001b[38;5;28;01mglobal\u001b[39;00m developer_nrel_gov_key\n\u001b[0;32m     14\u001b[0m \u001b[38;5;28;01mif\u001b[39;00m developer_nrel_gov_key \u001b[38;5;129;01mis\u001b[39;00m \u001b[38;5;28;01mNone\u001b[39;00m \u001b[38;5;129;01mor\u001b[39;00m \u001b[38;5;28mlen\u001b[39m(developer_nrel_gov_key) \u001b[38;5;241m!=\u001b[39m \u001b[38;5;241m40\u001b[39m:\n\u001b[1;32m---> 15\u001b[0m     \u001b[38;5;28;01mraise\u001b[39;00m \u001b[38;5;167;01mValueError\u001b[39;00m(\u001b[38;5;124m\"\u001b[39m\u001b[38;5;124mPlease provide NREL Developer key using `set_developer_nrel_gov_key`\u001b[39m\u001b[38;5;124m\"\u001b[39m\n\u001b[0;32m     16\u001b[0m                      \u001b[38;5;124m\"\u001b[39m\u001b[38;5;124m(`from hopp.utilities.keys import set_developer_nrel_gov_key`) \u001b[39m\u001b[38;5;130;01m\\n\u001b[39;00m\u001b[38;5;124m\"\u001b[39m\n\u001b[0;32m     17\u001b[0m                      \u001b[38;5;124m\"\u001b[39m\u001b[38;5;124m Ensure your Developer key is set either as a `NREL_API_KEY` Environment Variable or\u001b[39m\u001b[38;5;124m\"\u001b[39m\n\u001b[0;32m     18\u001b[0m                      \u001b[38;5;124m\"\u001b[39m\u001b[38;5;124m using the .env file method. For details on setting up .env, \u001b[39m\u001b[38;5;124m\"\u001b[39m\n\u001b[0;32m     19\u001b[0m                      \u001b[38;5;124m\"\u001b[39m\u001b[38;5;124mplease see Section 7 of \u001b[39m\u001b[38;5;124m'\u001b[39m\u001b[38;5;124mInstalling from Source\u001b[39m\u001b[38;5;124m'\u001b[39m\u001b[38;5;124m or \u001b[39m\u001b[38;5;124m\"\u001b[39m\n\u001b[0;32m     20\u001b[0m                      \u001b[38;5;124m\"\u001b[39m\u001b[38;5;124mSection 2 of \u001b[39m\u001b[38;5;124m'\u001b[39m\u001b[38;5;124mInstalling from Package Repositories\u001b[39m\u001b[38;5;124m'\u001b[39m\u001b[38;5;124m in the README.md\u001b[39m\u001b[38;5;124m\"\u001b[39m)\n\u001b[0;32m     21\u001b[0m \u001b[38;5;28;01mreturn\u001b[39;00m developer_nrel_gov_key\n",
      "\u001b[1;31mValueError\u001b[0m: Please provide NREL Developer key using `set_developer_nrel_gov_key`(`from hopp.utilities.keys import set_developer_nrel_gov_key`) \n Ensure your Developer key is set either as a `NREL_API_KEY` Environment Variable or using the .env file method. For details on setting up .env, please see Section 7 of 'Installing from Source' or Section 2 of 'Installing from Package Repositories' in the README.md"
     ]
    }
   ],
   "source": [
    "hi = HoppInterface(\"./inputs/02-wind-solar-api.yaml\")"
   ]
  },
  {
   "cell_type": "markdown",
   "metadata": {},
   "source": [
    "### Run the Simulation\n",
    "Simulate the hybrid renewable energy system for a specified number of years (in this case, 25 years)."
   ]
  },
  {
   "cell_type": "code",
   "execution_count": 5,
   "metadata": {},
   "outputs": [],
   "source": [
    "hi.simulate(25)"
   ]
  },
  {
   "cell_type": "markdown",
   "metadata": {},
   "source": [
    "### Retrieve and Display Results\n",
    "Access the simulation results, including annual energies, capacity factors and net present values (NPVs), and print them to the console."
   ]
  },
  {
   "cell_type": "code",
   "execution_count": 6,
   "metadata": {},
   "outputs": [
    {
     "name": "stdout",
     "output_type": "stream",
     "text": [
      "Wind Installed Cost: 72700000.0\n",
      "Solar Installed Cost: 48000000.0\n",
      "Hybrid Installed Cost: 120700000.0\n",
      "Wind NPV: -37054112.94902411\n",
      "Solar NPV: -24986062.58280176\n",
      "Hybrid NPV: -65015880.48273513\n",
      "{\"pv\": 104289820.46059448, \"wind\": 156936144.3525474, \"hybrid\": 250449987.43150324}\n",
      "{\"pv\": 30.95359968008512, \"wind\": 35.830169943503975, \"hybrid\": 33.70992200288708}\n",
      "{\"pv\": -24986062.58280176, \"wind\": -37054112.94902411, \"hybrid\": -65015880.48273513}\n"
     ]
    }
   ],
   "source": [
    "hybrid_plant = hi.system\n",
    "annual_energies = hybrid_plant.annual_energies\n",
    "npvs = hybrid_plant.net_present_values\n",
    "cf = hybrid_plant.capacity_factors\n",
    "\n",
    "wind_installed_cost = hybrid_plant.wind.total_installed_cost\n",
    "solar_installed_cost = hybrid_plant.pv.total_installed_cost\n",
    "hybrid_installed_cost = hybrid_plant.grid.total_installed_cost\n",
    "\n",
    "print(\"Wind Installed Cost: {}\".format(wind_installed_cost))\n",
    "print(\"Solar Installed Cost: {}\".format(solar_installed_cost))\n",
    "print(\"Hybrid Installed Cost: {}\".format(hybrid_installed_cost))\n",
    "\n",
    "print(\"Wind NPV: {}\".format(hybrid_plant.net_present_values.wind))\n",
    "print(\"Solar NPV: {}\".format(hybrid_plant.net_present_values.pv))\n",
    "print(\"Hybrid NPV: {}\".format(hybrid_plant.net_present_values.hybrid))\n",
    "\n",
    "print(annual_energies)\n",
    "print(cf)\n",
    "print(npvs)"
   ]
  }
 ],
 "metadata": {
  "interpreter": {
   "hash": "c4181dcdfcea4d6481020f2ce48a9cbe5cdfeb7af5e211e5dfd3ac596bfed8bd"
  },
  "kernelspec": {
   "display_name": "Python 3 (ipykernel)",
   "language": "python",
   "name": "python3"
  },
  "language_info": {
   "codemirror_mode": {
    "name": "ipython",
    "version": 3
   },
   "file_extension": ".py",
   "mimetype": "text/x-python",
   "name": "python",
   "nbconvert_exporter": "python",
   "pygments_lexer": "ipython3",
   "version": "3.8.18"
  }
 },
 "nbformat": 4,
 "nbformat_minor": 4
}
